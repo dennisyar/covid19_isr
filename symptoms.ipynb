{
 "cells": [
  {
   "cell_type": "markdown",
   "metadata": {},
   "source": [
    "## This is glimp on the syptomps frequency of those who were tested to COVID-19 in Israel during 11-Mar-2020 and 14-May-2020 and were found Positive to the virus.  \n",
    "### Scroll down to the to bottom of the page to see results.  \n",
    "Data source: https://data.gov.il/dataset/covid-19/"
   ]
  },
  {
   "cell_type": "code",
   "execution_count": 1,
   "metadata": {
    "collapsed": true
   },
   "outputs": [],
   "source": [
    "import pandas as pd"
   ]
  },
  {
   "cell_type": "code",
   "execution_count": 16,
   "metadata": {},
   "outputs": [],
   "source": [
    "data = pd.read_csv('corona_tested_individuals_ver_0010.csv',low_memory=False)\n",
    "data = data.fillna(0) "
   ]
  },
  {
   "cell_type": "code",
   "execution_count": 17,
   "metadata": {},
   "outputs": [
    {
     "name": "stdout",
     "output_type": "stream",
     "text": [
      "    test_date  cough  fever  sore_throat  shortness_of_breath  head_ache  \\\n",
      "0  2020-05-14    1.0    0.0          0.0                  0.0        0.0   \n",
      "1  2020-05-14    0.0    0.0          0.0                  0.0        0.0   \n",
      "2  2020-05-14    1.0    0.0          0.0                  0.0        0.0   \n",
      "3  2020-05-14    0.0    0.0          0.0                  0.0        0.0   \n",
      "4  2020-05-14    0.0    0.0          0.0                  0.0        0.0   \n",
      "\n",
      "  corona_result age_60_and_above gender         test_indication  \n",
      "0         שלילי                0      0                  Abroad  \n",
      "1         שלילי                0      0                   Other  \n",
      "2         שלילי                0      0  Contact with confirmed  \n",
      "3         שלילי                0      0                   Other  \n",
      "4         שלילי                0      0                   Other  \n"
     ]
    }
   ],
   "source": [
    "print(data.head())"
   ]
  },
  {
   "cell_type": "code",
   "execution_count": 19,
   "metadata": {
    "collapsed": true
   },
   "outputs": [],
   "source": [
    "data_positive = data[data.corona_result=='חיובי']"
   ]
  },
  {
   "cell_type": "code",
   "execution_count": 20,
   "metadata": {},
   "outputs": [
    {
     "data": {
      "text/html": [
       "<div>\n",
       "<style scoped>\n",
       "    .dataframe tbody tr th:only-of-type {\n",
       "        vertical-align: middle;\n",
       "    }\n",
       "\n",
       "    .dataframe tbody tr th {\n",
       "        vertical-align: top;\n",
       "    }\n",
       "\n",
       "    .dataframe thead th {\n",
       "        text-align: right;\n",
       "    }\n",
       "</style>\n",
       "<table border=\"1\" class=\"dataframe\">\n",
       "  <thead>\n",
       "    <tr style=\"text-align: right;\">\n",
       "      <th></th>\n",
       "      <th>cough</th>\n",
       "      <th>fever</th>\n",
       "      <th>sore_throat</th>\n",
       "      <th>shortness_of_breath</th>\n",
       "      <th>head_ache</th>\n",
       "    </tr>\n",
       "  </thead>\n",
       "  <tbody>\n",
       "    <tr>\n",
       "      <th>count</th>\n",
       "      <td>14533.000000</td>\n",
       "      <td>14533.000000</td>\n",
       "      <td>14533.000000</td>\n",
       "      <td>14533.000000</td>\n",
       "      <td>14533.000000</td>\n",
       "    </tr>\n",
       "    <tr>\n",
       "      <th>mean</th>\n",
       "      <td>0.431501</td>\n",
       "      <td>0.367715</td>\n",
       "      <td>0.102456</td>\n",
       "      <td>0.078167</td>\n",
       "      <td>0.150485</td>\n",
       "    </tr>\n",
       "    <tr>\n",
       "      <th>std</th>\n",
       "      <td>0.495303</td>\n",
       "      <td>0.482200</td>\n",
       "      <td>0.303258</td>\n",
       "      <td>0.268443</td>\n",
       "      <td>0.357559</td>\n",
       "    </tr>\n",
       "    <tr>\n",
       "      <th>min</th>\n",
       "      <td>0.000000</td>\n",
       "      <td>0.000000</td>\n",
       "      <td>0.000000</td>\n",
       "      <td>0.000000</td>\n",
       "      <td>0.000000</td>\n",
       "    </tr>\n",
       "    <tr>\n",
       "      <th>25%</th>\n",
       "      <td>0.000000</td>\n",
       "      <td>0.000000</td>\n",
       "      <td>0.000000</td>\n",
       "      <td>0.000000</td>\n",
       "      <td>0.000000</td>\n",
       "    </tr>\n",
       "    <tr>\n",
       "      <th>50%</th>\n",
       "      <td>0.000000</td>\n",
       "      <td>0.000000</td>\n",
       "      <td>0.000000</td>\n",
       "      <td>0.000000</td>\n",
       "      <td>0.000000</td>\n",
       "    </tr>\n",
       "    <tr>\n",
       "      <th>75%</th>\n",
       "      <td>1.000000</td>\n",
       "      <td>1.000000</td>\n",
       "      <td>0.000000</td>\n",
       "      <td>0.000000</td>\n",
       "      <td>0.000000</td>\n",
       "    </tr>\n",
       "    <tr>\n",
       "      <th>max</th>\n",
       "      <td>1.000000</td>\n",
       "      <td>1.000000</td>\n",
       "      <td>1.000000</td>\n",
       "      <td>1.000000</td>\n",
       "      <td>1.000000</td>\n",
       "    </tr>\n",
       "  </tbody>\n",
       "</table>\n",
       "</div>"
      ],
      "text/plain": [
       "              cough         fever   sore_throat  shortness_of_breath  \\\n",
       "count  14533.000000  14533.000000  14533.000000         14533.000000   \n",
       "mean       0.431501      0.367715      0.102456             0.078167   \n",
       "std        0.495303      0.482200      0.303258             0.268443   \n",
       "min        0.000000      0.000000      0.000000             0.000000   \n",
       "25%        0.000000      0.000000      0.000000             0.000000   \n",
       "50%        0.000000      0.000000      0.000000             0.000000   \n",
       "75%        1.000000      1.000000      0.000000             0.000000   \n",
       "max        1.000000      1.000000      1.000000             1.000000   \n",
       "\n",
       "          head_ache  \n",
       "count  14533.000000  \n",
       "mean       0.150485  \n",
       "std        0.357559  \n",
       "min        0.000000  \n",
       "25%        0.000000  \n",
       "50%        0.000000  \n",
       "75%        0.000000  \n",
       "max        1.000000  "
      ]
     },
     "execution_count": 20,
     "metadata": {},
     "output_type": "execute_result"
    }
   ],
   "source": [
    "stats = data_positive.describe()\n",
    "stats"
   ]
  },
  {
   "cell_type": "code",
   "execution_count": 21,
   "metadata": {
    "scrolled": false
   },
   "outputs": [
    {
     "name": "stdout",
     "output_type": "stream",
     "text": [
      "\n",
      "\n",
      "Tests were taken during 2020-03-11 and 2020-05-14\n",
      "Number of positive tests = 14533\n",
      "\n",
      "Gender:\n",
      "Male = 54.88%\n",
      "Female = 43.29%\n",
      "\n",
      "Positive tests, distinct symptoms : \n",
      "Cough = 43.15%\n",
      "Fever = 36.77%\n",
      "Sore Throat = 10.25%\n",
      "Shortness Of Breath = 7.82%\n",
      "Head Ache = 15.05%\n",
      "\n",
      "No symptoms at all = 37.96%\n",
      "\n",
      "Cough and Fever = 23.46%\n",
      "Sore Throat and Fever = 5.11%\n"
     ]
    }
   ],
   "source": [
    "n = data_positive.shape[0]\n",
    "\n",
    "print(\"\\n\" +\n",
    "      \"\\n\" +\n",
    "      \"Tests were taken during \" + str(data.test_date.min()) + \" and \" + str(data.test_date.max()) + \"\\n\" + \n",
    "      \"Number of positive tests = \" + str(data_positive.shape[0]) +\"\\n\" +\n",
    "      \"\\n\" +\n",
    "      \"Gender:\" +\"\\n\" +\n",
    "      \"Male = \" + \"{:.2%}\".format(sum(data_positive.gender=='זכר')/data_positive.shape[0]) + \"\\n\" + \n",
    "      \"Female = \" + \"{:.2%}\".format(sum(data_positive.gender=='נקבה')/data_positive.shape[0]) + \"\\n\" +\n",
    "      \"\\n\" +\n",
    "      \"Positive tests, distinct symptoms : \\n\" + \n",
    "      \"Cough = \" + \"{:.2%}\".format(stats.loc['mean','cough']) + \"\\n\" +\n",
    "      \"Fever = \" + \"{:.2%}\".format(stats.loc['mean','fever']) + \"\\n\" +\n",
    "      \"Sore Throat = \" + \"{:.2%}\".format(stats.loc['mean','sore_throat']) + \"\\n\" +\n",
    "      \"Shortness Of Breath = \" + \"{:.2%}\".format(stats.loc['mean','shortness_of_breath']) + \"\\n\" +\n",
    "      \"Head Ache = \" + \"{:.2%}\".format(stats.loc['mean','head_ache']) + \"\\n\" + \n",
    "      \"\\n\" +\n",
    "      \"No symptoms at all = \" + \"{:.2%}\".format(data_positive.loc[(data_positive['cough']==0) & \n",
    "                                                                  (data_positive['fever']==0) & \n",
    "                                                                  (data_positive['fever']==0) & \n",
    "                                                                  (data_positive['sore_throat']==0) &\n",
    "                                                                  (data_positive['shortness_of_breath']==0) & \n",
    "                                                                  (data_positive['head_ache']==0)].shape[0]/n) + \"\\n\" +\n",
    "     \"\\n\" + \n",
    "     \"Cough and Fever = \" + \"{:.2%}\".format(data_positive.loc[(data_positive['cough']==1) & (data_positive['fever']==1)].shape[0]/n) + \"\\n\" +\n",
    "     \"Sore Throat and Fever = \" +\"{:.2%}\".format(data_positive.loc[(data_positive['sore_throat']==1) & (data_positive['fever']==1)].shape[0]/n))"
   ]
  },
  {
   "cell_type": "code",
   "execution_count": null,
   "metadata": {
    "collapsed": true
   },
   "outputs": [],
   "source": []
  }
 ],
 "metadata": {
  "kernelspec": {
   "display_name": "Python 3",
   "language": "python",
   "name": "python3"
  },
  "language_info": {
   "codemirror_mode": {
    "name": "ipython",
    "version": 3
   },
   "file_extension": ".py",
   "mimetype": "text/x-python",
   "name": "python",
   "nbconvert_exporter": "python",
   "pygments_lexer": "ipython3",
   "version": "3.6.3"
  }
 },
 "nbformat": 4,
 "nbformat_minor": 2
}
