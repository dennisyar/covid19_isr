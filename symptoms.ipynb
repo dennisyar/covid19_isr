{
 "cells": [
  {
   "cell_type": "markdown",
   "metadata": {},
   "source": [
    "## This is glimp on the syptomps frequency of those who were tested to COVID-19 in Israel during 11-Mar-2020 and 16-Jul-2020 and were found Positive to the virus.  \n",
    "### Scroll down to the to bottom of the page to see results.  \n",
    "Data source: https://data.gov.il/dataset/covid-19/"
   ]
  },
  {
   "cell_type": "code",
   "execution_count": 1,
   "metadata": {
    "collapsed": true
   },
   "outputs": [],
   "source": [
    "import pandas as pd"
   ]
  },
  {
   "cell_type": "code",
   "execution_count": 2,
   "metadata": {
    "collapsed": true
   },
   "outputs": [],
   "source": [
    "data = pd.read_csv('corona_tested_individuals_ver_0045.csv',low_memory=False)\n",
    "data = data.fillna(0) \n",
    "data['test_date'] = pd.to_datetime(data['test_date'], format='%Y-%m-%d')"
   ]
  },
  {
   "cell_type": "code",
   "execution_count": 3,
   "metadata": {},
   "outputs": [
    {
     "data": {
      "text/html": [
       "<div>\n",
       "<style scoped>\n",
       "    .dataframe tbody tr th:only-of-type {\n",
       "        vertical-align: middle;\n",
       "    }\n",
       "\n",
       "    .dataframe tbody tr th {\n",
       "        vertical-align: top;\n",
       "    }\n",
       "\n",
       "    .dataframe thead th {\n",
       "        text-align: right;\n",
       "    }\n",
       "</style>\n",
       "<table border=\"1\" class=\"dataframe\">\n",
       "  <thead>\n",
       "    <tr style=\"text-align: right;\">\n",
       "      <th></th>\n",
       "      <th>test_date</th>\n",
       "      <th>cough</th>\n",
       "      <th>fever</th>\n",
       "      <th>sore_throat</th>\n",
       "      <th>shortness_of_breath</th>\n",
       "      <th>head_ache</th>\n",
       "      <th>corona_result</th>\n",
       "      <th>age_60_and_above</th>\n",
       "      <th>gender</th>\n",
       "      <th>test_indication</th>\n",
       "    </tr>\n",
       "  </thead>\n",
       "  <tbody>\n",
       "    <tr>\n",
       "      <th>0</th>\n",
       "      <td>2020-07-16</td>\n",
       "      <td>0</td>\n",
       "      <td>0</td>\n",
       "      <td>0</td>\n",
       "      <td>0</td>\n",
       "      <td>0</td>\n",
       "      <td>שלילי</td>\n",
       "      <td>No</td>\n",
       "      <td>נקבה</td>\n",
       "      <td>Other</td>\n",
       "    </tr>\n",
       "    <tr>\n",
       "      <th>1</th>\n",
       "      <td>2020-07-16</td>\n",
       "      <td>0</td>\n",
       "      <td>0</td>\n",
       "      <td>0</td>\n",
       "      <td>0</td>\n",
       "      <td>0</td>\n",
       "      <td>שלילי</td>\n",
       "      <td>No</td>\n",
       "      <td>זכר</td>\n",
       "      <td>Other</td>\n",
       "    </tr>\n",
       "    <tr>\n",
       "      <th>2</th>\n",
       "      <td>2020-07-16</td>\n",
       "      <td>0</td>\n",
       "      <td>0</td>\n",
       "      <td>0</td>\n",
       "      <td>0</td>\n",
       "      <td>0</td>\n",
       "      <td>שלילי</td>\n",
       "      <td>No</td>\n",
       "      <td>נקבה</td>\n",
       "      <td>Other</td>\n",
       "    </tr>\n",
       "    <tr>\n",
       "      <th>3</th>\n",
       "      <td>2020-07-16</td>\n",
       "      <td>0</td>\n",
       "      <td>0</td>\n",
       "      <td>0</td>\n",
       "      <td>0</td>\n",
       "      <td>0</td>\n",
       "      <td>שלילי</td>\n",
       "      <td>No</td>\n",
       "      <td>נקבה</td>\n",
       "      <td>Other</td>\n",
       "    </tr>\n",
       "    <tr>\n",
       "      <th>4</th>\n",
       "      <td>2020-07-16</td>\n",
       "      <td>0</td>\n",
       "      <td>0</td>\n",
       "      <td>0</td>\n",
       "      <td>0</td>\n",
       "      <td>0</td>\n",
       "      <td>שלילי</td>\n",
       "      <td>Yes</td>\n",
       "      <td>נקבה</td>\n",
       "      <td>Other</td>\n",
       "    </tr>\n",
       "  </tbody>\n",
       "</table>\n",
       "</div>"
      ],
      "text/plain": [
       "   test_date  cough  fever  sore_throat  shortness_of_breath  head_ache  \\\n",
       "0 2020-07-16      0      0            0                    0          0   \n",
       "1 2020-07-16      0      0            0                    0          0   \n",
       "2 2020-07-16      0      0            0                    0          0   \n",
       "3 2020-07-16      0      0            0                    0          0   \n",
       "4 2020-07-16      0      0            0                    0          0   \n",
       "\n",
       "  corona_result age_60_and_above gender test_indication  \n",
       "0         שלילי               No   נקבה           Other  \n",
       "1         שלילי               No    זכר           Other  \n",
       "2         שלילי               No   נקבה           Other  \n",
       "3         שלילי               No   נקבה           Other  \n",
       "4         שלילי              Yes   נקבה           Other  "
      ]
     },
     "execution_count": 3,
     "metadata": {},
     "output_type": "execute_result"
    }
   ],
   "source": [
    "data.head()"
   ]
  },
  {
   "cell_type": "code",
   "execution_count": 4,
   "metadata": {},
   "outputs": [
    {
     "name": "stderr",
     "output_type": "stream",
     "text": [
      "C:\\Users\\Dennis\\AppData\\Local\\Continuum\\anaconda3\\lib\\site-packages\\ipykernel_launcher.py:2: SettingWithCopyWarning: \n",
      "A value is trying to be set on a copy of a slice from a DataFrame.\n",
      "Try using .loc[row_indexer,col_indexer] = value instead\n",
      "\n",
      "See the caveats in the documentation: http://pandas.pydata.org/pandas-docs/stable/indexing.html#indexing-view-versus-copy\n",
      "  \n"
     ]
    }
   ],
   "source": [
    "data_positive = data[data.corona_result=='חיובי']\n",
    "data_positive['year_month'] = data_positive.test_date.dt.to_period('M').astype(str)"
   ]
  },
  {
   "cell_type": "code",
   "execution_count": 5,
   "metadata": {},
   "outputs": [
    {
     "data": {
      "text/html": [
       "<div>\n",
       "<style scoped>\n",
       "    .dataframe tbody tr th:only-of-type {\n",
       "        vertical-align: middle;\n",
       "    }\n",
       "\n",
       "    .dataframe tbody tr th {\n",
       "        vertical-align: top;\n",
       "    }\n",
       "\n",
       "    .dataframe thead th {\n",
       "        text-align: right;\n",
       "    }\n",
       "</style>\n",
       "<table border=\"1\" class=\"dataframe\">\n",
       "  <thead>\n",
       "    <tr style=\"text-align: right;\">\n",
       "      <th></th>\n",
       "      <th>cough</th>\n",
       "      <th>fever</th>\n",
       "      <th>sore_throat</th>\n",
       "      <th>shortness_of_breath</th>\n",
       "      <th>head_ache</th>\n",
       "    </tr>\n",
       "  </thead>\n",
       "  <tbody>\n",
       "    <tr>\n",
       "      <th>count</th>\n",
       "      <td>41458.000000</td>\n",
       "      <td>41458.000000</td>\n",
       "      <td>41458.000000</td>\n",
       "      <td>41458.000000</td>\n",
       "      <td>41458.000000</td>\n",
       "    </tr>\n",
       "    <tr>\n",
       "      <th>mean</th>\n",
       "      <td>0.261276</td>\n",
       "      <td>0.270877</td>\n",
       "      <td>0.105022</td>\n",
       "      <td>0.053934</td>\n",
       "      <td>0.179748</td>\n",
       "    </tr>\n",
       "    <tr>\n",
       "      <th>std</th>\n",
       "      <td>0.439336</td>\n",
       "      <td>0.444418</td>\n",
       "      <td>0.306585</td>\n",
       "      <td>0.225890</td>\n",
       "      <td>0.383982</td>\n",
       "    </tr>\n",
       "    <tr>\n",
       "      <th>min</th>\n",
       "      <td>0.000000</td>\n",
       "      <td>0.000000</td>\n",
       "      <td>0.000000</td>\n",
       "      <td>0.000000</td>\n",
       "      <td>0.000000</td>\n",
       "    </tr>\n",
       "    <tr>\n",
       "      <th>25%</th>\n",
       "      <td>0.000000</td>\n",
       "      <td>0.000000</td>\n",
       "      <td>0.000000</td>\n",
       "      <td>0.000000</td>\n",
       "      <td>0.000000</td>\n",
       "    </tr>\n",
       "    <tr>\n",
       "      <th>50%</th>\n",
       "      <td>0.000000</td>\n",
       "      <td>0.000000</td>\n",
       "      <td>0.000000</td>\n",
       "      <td>0.000000</td>\n",
       "      <td>0.000000</td>\n",
       "    </tr>\n",
       "    <tr>\n",
       "      <th>75%</th>\n",
       "      <td>1.000000</td>\n",
       "      <td>1.000000</td>\n",
       "      <td>0.000000</td>\n",
       "      <td>0.000000</td>\n",
       "      <td>0.000000</td>\n",
       "    </tr>\n",
       "    <tr>\n",
       "      <th>max</th>\n",
       "      <td>1.000000</td>\n",
       "      <td>1.000000</td>\n",
       "      <td>1.000000</td>\n",
       "      <td>1.000000</td>\n",
       "      <td>1.000000</td>\n",
       "    </tr>\n",
       "  </tbody>\n",
       "</table>\n",
       "</div>"
      ],
      "text/plain": [
       "              cough         fever   sore_throat  shortness_of_breath  \\\n",
       "count  41458.000000  41458.000000  41458.000000         41458.000000   \n",
       "mean       0.261276      0.270877      0.105022             0.053934   \n",
       "std        0.439336      0.444418      0.306585             0.225890   \n",
       "min        0.000000      0.000000      0.000000             0.000000   \n",
       "25%        0.000000      0.000000      0.000000             0.000000   \n",
       "50%        0.000000      0.000000      0.000000             0.000000   \n",
       "75%        1.000000      1.000000      0.000000             0.000000   \n",
       "max        1.000000      1.000000      1.000000             1.000000   \n",
       "\n",
       "          head_ache  \n",
       "count  41458.000000  \n",
       "mean       0.179748  \n",
       "std        0.383982  \n",
       "min        0.000000  \n",
       "25%        0.000000  \n",
       "50%        0.000000  \n",
       "75%        0.000000  \n",
       "max        1.000000  "
      ]
     },
     "execution_count": 5,
     "metadata": {},
     "output_type": "execute_result"
    }
   ],
   "source": [
    "stats = data_positive.describe()\n",
    "stats"
   ]
  },
  {
   "cell_type": "markdown",
   "metadata": {},
   "source": [
    "## Symptoms during all time"
   ]
  },
  {
   "cell_type": "code",
   "execution_count": 6,
   "metadata": {
    "scrolled": false
   },
   "outputs": [
    {
     "name": "stdout",
     "output_type": "stream",
     "text": [
      "\n",
      "\n",
      "Tests were taken during 2020-03-11 00:00:00 and 2020-07-16 00:00:00\n",
      "Number of positive tests = 41458\n",
      "\n",
      "Gender:\n",
      "Male = 52.84%\n",
      "Female = 45.50%\n",
      "\n",
      "Positive tests, distinct symptoms : \n",
      "Cough = 26.13%\n",
      "Fever = 27.09%\n",
      "Sore Throat = 10.50%\n",
      "Shortness Of Breath = 5.39%\n",
      "Head Ache = 17.97%\n",
      "\n",
      "No symptoms at all = 50.96%\n",
      "\n",
      "Cough and Fever = 13.31%\n",
      "Sore Throat and Fever = 4.49%\n"
     ]
    }
   ],
   "source": [
    "n = data_positive.shape[0]\n",
    "\n",
    "print(\"\\n\" +\n",
    "      \"\\n\" +\n",
    "      \"Tests were taken during \" + str(data.test_date.min()) + \" and \" + str(data.test_date.max()) + \"\\n\" + \n",
    "      \"Number of positive tests = \" + str(n) +\"\\n\" +\n",
    "      \"\\n\" +\n",
    "      \"Gender:\" +\"\\n\" +\n",
    "      \"Male = \" + \"{:.2%}\".format(sum(data_positive.gender=='זכר')/n) + \"\\n\" + \n",
    "      \"Female = \" + \"{:.2%}\".format(sum(data_positive.gender=='נקבה')/n) + \"\\n\" +\n",
    "      \"\\n\" +\n",
    "      \"Positive tests, distinct symptoms : \\n\" + \n",
    "      \"Cough = \" + \"{:.2%}\".format(stats.loc['mean','cough']) + \"\\n\" +\n",
    "      \"Fever = \" + \"{:.2%}\".format(stats.loc['mean','fever']) + \"\\n\" +\n",
    "      \"Sore Throat = \" + \"{:.2%}\".format(stats.loc['mean','sore_throat']) + \"\\n\" +\n",
    "      \"Shortness Of Breath = \" + \"{:.2%}\".format(stats.loc['mean','shortness_of_breath']) + \"\\n\" +\n",
    "      \"Head Ache = \" + \"{:.2%}\".format(stats.loc['mean','head_ache']) + \"\\n\" + \n",
    "      \"\\n\" +\n",
    "      \"No symptoms at all = \" + \"{:.2%}\".format(data_positive.loc[(data_positive['cough']==0) & \n",
    "                                                                  (data_positive['fever']==0) & \n",
    "                                                                  (data_positive['fever']==0) & \n",
    "                                                                  (data_positive['sore_throat']==0) &\n",
    "                                                                  (data_positive['shortness_of_breath']==0) & \n",
    "                                                                  (data_positive['head_ache']==0)].shape[0]/n) + \"\\n\" +\n",
    "     \"\\n\" + \n",
    "     \"Cough and Fever = \" + \"{:.2%}\".format(data_positive.loc[(data_positive['cough']==1) & (data_positive['fever']==1)].shape[0]/n) + \"\\n\" +\n",
    "     \"Sore Throat and Fever = \" +\"{:.2%}\".format(data_positive.loc[(data_positive['sore_throat']==1) & (data_positive['fever']==1)].shape[0]/n))"
   ]
  },
  {
   "cell_type": "markdown",
   "metadata": {},
   "source": [
    "## Lets see per each month  "
   ]
  },
  {
   "cell_type": "code",
   "execution_count": 7,
   "metadata": {
    "collapsed": true
   },
   "outputs": [],
   "source": [
    "def print_for_period(period):\n",
    "    print('The number of positive results are: ')\n",
    "    print(str(data_positive[data_positive.year_month==period].shape[0]) +'\\n')\n",
    "    print(\"No symptoms at all = \" + \"{:.2%}\".format(data_positive[data_positive.year_month==period].loc[(data_positive[data_positive.year_month==period].cough==0) & \n",
    "                                                                  (data_positive[data_positive.year_month==period].fever==0) & \n",
    "                                                                  (data_positive[data_positive.year_month==period].fever==0) & \n",
    "                                                                  (data_positive[data_positive.year_month==period].sore_throat==0) &\n",
    "                                                                  (data_positive[data_positive.year_month==period].shortness_of_breath==0) & \n",
    "                                                                  (data_positive[data_positive.year_month==period].head_ache==0)].shape[0]/data_positive[data_positive.year_month==period].shape[0]))\n",
    "    print(\"\\nDistinct symptoms for this period:\")\n",
    "    print((round(data_positive[data_positive.year_month==period].describe().loc['mean',:]*100,2)).astype(str) + '%')\n",
    "    "
   ]
  },
  {
   "cell_type": "markdown",
   "metadata": {},
   "source": [
    "March - 2020"
   ]
  },
  {
   "cell_type": "code",
   "execution_count": 8,
   "metadata": {},
   "outputs": [
    {
     "name": "stdout",
     "output_type": "stream",
     "text": [
      "The number of positive results are: \n",
      "5894\n",
      "\n",
      "No symptoms at all = 25.72%\n",
      "\n",
      "Distinct symptoms for this period:\n",
      "cough                  48.88%\n",
      "fever                   47.2%\n",
      "sore_throat            14.71%\n",
      "shortness_of_breath    12.62%\n",
      "head_ache              21.94%\n",
      "Name: mean, dtype: object\n"
     ]
    }
   ],
   "source": [
    "print_for_period('2020-03')"
   ]
  },
  {
   "cell_type": "markdown",
   "metadata": {
    "collapsed": true
   },
   "source": [
    "Apr - 2020"
   ]
  },
  {
   "cell_type": "code",
   "execution_count": 9,
   "metadata": {},
   "outputs": [
    {
     "name": "stdout",
     "output_type": "stream",
     "text": [
      "The number of positive results are: \n",
      "8803\n",
      "\n",
      "No symptoms at all = 38.00%\n",
      "\n",
      "Distinct symptoms for this period:\n",
      "cough                  39.94%\n",
      "fever                  33.07%\n",
      "sore_throat            11.88%\n",
      "shortness_of_breath     7.02%\n",
      "head_ache              18.47%\n",
      "Name: mean, dtype: object\n"
     ]
    }
   ],
   "source": [
    "print_for_period('2020-04')"
   ]
  },
  {
   "cell_type": "markdown",
   "metadata": {},
   "source": [
    "May - 2020"
   ]
  },
  {
   "cell_type": "code",
   "execution_count": 10,
   "metadata": {},
   "outputs": [
    {
     "name": "stdout",
     "output_type": "stream",
     "text": [
      "The number of positive results are: \n",
      "943\n",
      "\n",
      "No symptoms at all = 58.43%\n",
      "\n",
      "Distinct symptoms for this period:\n",
      "cough                  21.21%\n",
      "fever                  20.36%\n",
      "sore_throat             8.38%\n",
      "shortness_of_breath     3.71%\n",
      "head_ache              15.59%\n",
      "Name: mean, dtype: object\n"
     ]
    }
   ],
   "source": [
    "print_for_period('2020-05')"
   ]
  },
  {
   "cell_type": "markdown",
   "metadata": {},
   "source": [
    "June -2020"
   ]
  },
  {
   "cell_type": "code",
   "execution_count": 11,
   "metadata": {},
   "outputs": [
    {
     "name": "stdout",
     "output_type": "stream",
     "text": [
      "The number of positive results are: \n",
      "7854\n",
      "\n",
      "No symptoms at all = 54.35%\n",
      "\n",
      "Distinct symptoms for this period:\n",
      "cough                  20.24%\n",
      "fever                  23.49%\n",
      "sore_throat            10.49%\n",
      "shortness_of_breath     3.59%\n",
      "head_ache               18.5%\n",
      "Name: mean, dtype: object\n"
     ]
    }
   ],
   "source": [
    "print_for_period('2020-06')"
   ]
  },
  {
   "cell_type": "markdown",
   "metadata": {},
   "source": [
    "July-2020 (till 2020-07-16)"
   ]
  },
  {
   "cell_type": "code",
   "execution_count": 12,
   "metadata": {},
   "outputs": [
    {
     "name": "stdout",
     "output_type": "stream",
     "text": [
      "The number of positive results are: \n",
      "17964\n",
      "\n",
      "No symptoms at all = 63.73%\n",
      "\n",
      "Distinct symptoms for this period:\n",
      "cough                  14.72%\n",
      "fever                  19.48%\n",
      "sore_throat             8.56%\n",
      "shortness_of_breath      3.1%\n",
      "head_ache              16.33%\n",
      "Name: mean, dtype: object\n"
     ]
    }
   ],
   "source": [
    "print_for_period('2020-07')"
   ]
  }
 ],
 "metadata": {
  "kernelspec": {
   "display_name": "Python 3",
   "language": "python",
   "name": "python3"
  },
  "language_info": {
   "codemirror_mode": {
    "name": "ipython",
    "version": 3
   },
   "file_extension": ".py",
   "mimetype": "text/x-python",
   "name": "python",
   "nbconvert_exporter": "python",
   "pygments_lexer": "ipython3",
   "version": "3.6.3"
  }
 },
 "nbformat": 4,
 "nbformat_minor": 2
}
