{
 "cells": [
  {
   "cell_type": "markdown",
   "metadata": {},
   "source": [
    "## This is glimp on the syptomps frequency of those who were tested to COVID-19 in Israel during 11-Mar-2020 and 30-Apr-2020 and were found Positive to the virus.  \n",
    "### Scroll down to the to bottom of the page to see results.  \n",
    "Data source: https://data.gov.il/dataset/covid-19/resource/d337959a-020a-4ed3-84f7-fca182292308"
   ]
  },
  {
   "cell_type": "code",
   "execution_count": 1,
   "metadata": {
    "collapsed": true
   },
   "outputs": [],
   "source": [
    "import pandas as pd"
   ]
  },
  {
   "cell_type": "code",
   "execution_count": 76,
   "metadata": {},
   "outputs": [],
   "source": [
    "data = pd.read_csv('corona_tested_individuals_ver_006.csv',na_values='None',low_memory=False)"
   ]
  },
  {
   "cell_type": "code",
   "execution_count": 77,
   "metadata": {},
   "outputs": [
    {
     "name": "stdout",
     "output_type": "stream",
     "text": [
      "    test_date  cough  fever  sore_throat  shortness_of_breath  head_ache  \\\n",
      "0  2020-04-30    0.0    0.0          0.0                  0.0        0.0   \n",
      "1  2020-04-30    1.0    0.0          0.0                  0.0        0.0   \n",
      "2  2020-04-30    0.0    1.0          0.0                  0.0        0.0   \n",
      "3  2020-04-30    1.0    0.0          0.0                  0.0        0.0   \n",
      "4  2020-04-30    1.0    0.0          0.0                  0.0        0.0   \n",
      "\n",
      "  corona_result age_60_and_above gender test_indication  \n",
      "0         שלילי              NaN   נקבה           Other  \n",
      "1         שלילי              NaN   נקבה           Other  \n",
      "2         שלילי              NaN    זכר           Other  \n",
      "3         שלילי              NaN   נקבה           Other  \n",
      "4         שלילי              NaN    זכר           Other  \n"
     ]
    }
   ],
   "source": [
    "print(data.head())"
   ]
  },
  {
   "cell_type": "code",
   "execution_count": 78,
   "metadata": {
    "collapsed": true
   },
   "outputs": [],
   "source": [
    "data_positive = data[data.corona_result=='חיובי']"
   ]
  },
  {
   "cell_type": "code",
   "execution_count": 79,
   "metadata": {},
   "outputs": [
    {
     "data": {
      "text/html": [
       "<div>\n",
       "<style scoped>\n",
       "    .dataframe tbody tr th:only-of-type {\n",
       "        vertical-align: middle;\n",
       "    }\n",
       "\n",
       "    .dataframe tbody tr th {\n",
       "        vertical-align: top;\n",
       "    }\n",
       "\n",
       "    .dataframe thead th {\n",
       "        text-align: right;\n",
       "    }\n",
       "</style>\n",
       "<table border=\"1\" class=\"dataframe\">\n",
       "  <thead>\n",
       "    <tr style=\"text-align: right;\">\n",
       "      <th></th>\n",
       "      <th>cough</th>\n",
       "      <th>fever</th>\n",
       "      <th>sore_throat</th>\n",
       "      <th>shortness_of_breath</th>\n",
       "      <th>head_ache</th>\n",
       "    </tr>\n",
       "  </thead>\n",
       "  <tbody>\n",
       "    <tr>\n",
       "      <th>count</th>\n",
       "      <td>14696.000000</td>\n",
       "      <td>14696.000000</td>\n",
       "      <td>14728.000000</td>\n",
       "      <td>14728.000000</td>\n",
       "      <td>14728.000000</td>\n",
       "    </tr>\n",
       "    <tr>\n",
       "      <th>mean</th>\n",
       "      <td>0.448013</td>\n",
       "      <td>0.378266</td>\n",
       "      <td>0.103612</td>\n",
       "      <td>0.079033</td>\n",
       "      <td>0.151752</td>\n",
       "    </tr>\n",
       "    <tr>\n",
       "      <th>std</th>\n",
       "      <td>0.497307</td>\n",
       "      <td>0.484971</td>\n",
       "      <td>0.304767</td>\n",
       "      <td>0.269800</td>\n",
       "      <td>0.358792</td>\n",
       "    </tr>\n",
       "    <tr>\n",
       "      <th>min</th>\n",
       "      <td>0.000000</td>\n",
       "      <td>0.000000</td>\n",
       "      <td>0.000000</td>\n",
       "      <td>0.000000</td>\n",
       "      <td>0.000000</td>\n",
       "    </tr>\n",
       "    <tr>\n",
       "      <th>25%</th>\n",
       "      <td>0.000000</td>\n",
       "      <td>0.000000</td>\n",
       "      <td>0.000000</td>\n",
       "      <td>0.000000</td>\n",
       "      <td>0.000000</td>\n",
       "    </tr>\n",
       "    <tr>\n",
       "      <th>50%</th>\n",
       "      <td>0.000000</td>\n",
       "      <td>0.000000</td>\n",
       "      <td>0.000000</td>\n",
       "      <td>0.000000</td>\n",
       "      <td>0.000000</td>\n",
       "    </tr>\n",
       "    <tr>\n",
       "      <th>75%</th>\n",
       "      <td>1.000000</td>\n",
       "      <td>1.000000</td>\n",
       "      <td>0.000000</td>\n",
       "      <td>0.000000</td>\n",
       "      <td>0.000000</td>\n",
       "    </tr>\n",
       "    <tr>\n",
       "      <th>max</th>\n",
       "      <td>1.000000</td>\n",
       "      <td>1.000000</td>\n",
       "      <td>1.000000</td>\n",
       "      <td>1.000000</td>\n",
       "      <td>1.000000</td>\n",
       "    </tr>\n",
       "  </tbody>\n",
       "</table>\n",
       "</div>"
      ],
      "text/plain": [
       "              cough         fever   sore_throat  shortness_of_breath  \\\n",
       "count  14696.000000  14696.000000  14728.000000         14728.000000   \n",
       "mean       0.448013      0.378266      0.103612             0.079033   \n",
       "std        0.497307      0.484971      0.304767             0.269800   \n",
       "min        0.000000      0.000000      0.000000             0.000000   \n",
       "25%        0.000000      0.000000      0.000000             0.000000   \n",
       "50%        0.000000      0.000000      0.000000             0.000000   \n",
       "75%        1.000000      1.000000      0.000000             0.000000   \n",
       "max        1.000000      1.000000      1.000000             1.000000   \n",
       "\n",
       "          head_ache  \n",
       "count  14728.000000  \n",
       "mean       0.151752  \n",
       "std        0.358792  \n",
       "min        0.000000  \n",
       "25%        0.000000  \n",
       "50%        0.000000  \n",
       "75%        0.000000  \n",
       "max        1.000000  "
      ]
     },
     "execution_count": 79,
     "metadata": {},
     "output_type": "execute_result"
    }
   ],
   "source": [
    "data_positive.describe()"
   ]
  },
  {
   "cell_type": "code",
   "execution_count": 91,
   "metadata": {
    "scrolled": true
   },
   "outputs": [
    {
     "name": "stdout",
     "output_type": "stream",
     "text": [
      "\n",
      "\n",
      "Tests were taken during 2020-03-11 and 2020-04-30\n",
      "Number of positive tests = 14729\n",
      "\n",
      "Gender:\n",
      "Male = 51.05%\n",
      "Female = 41.01%\n",
      "\n",
      "Positive tests, distinct symptoms : \n",
      "Cough = 44.70%\n",
      "Fever = 37.74%\n",
      "Sore Throat = 10.36%\n",
      "Shortness Of Breath = 7.90%\n",
      "Head Ache = 15.17%\n",
      "\n",
      "No symptoms at all = 35.89%\n",
      "\n",
      "Cough and Fever = 24.12%\n",
      "Sore Throat and Fever = 5.22%\n"
     ]
    }
   ],
   "source": [
    "print(\"\\n\" +\n",
    "      \"\\n\" +\n",
    "      \"Tests were taken during \" + str(data.test_date.min()) + \" and \" + str(data.test_date.max()) + \"\\n\" + \n",
    "      \"Number of positive tests = \" + str(data_positive.shape[0]) +\"\\n\" +\n",
    "      \"\\n\" +\n",
    "      \"Gender:\" +\"\\n\" +\n",
    "      \"Male = \" + \"{:.2%}\".format(sum(data_positive.gender=='זכר')/data_positive.shape[0]) + \"\\n\" + \n",
    "      \"Female = \" + \"{:.2%}\".format(sum(data_positive.gender=='נקבה')/data_positive.shape[0]) + \"\\n\" +\n",
    "      \"\\n\" +\n",
    "      \"Positive tests, distinct symptoms : \\n\" + \n",
    "      \"Cough = \" + \"{:.2%}\".format(sum(data_positive.cough==1)/data_positive.shape[0]) + \"\\n\" +\n",
    "      \"Fever = \" + \"{:.2%}\".format(sum(data_positive.fever==1)/data_positive.shape[0]) + \"\\n\" +\n",
    "      \"Sore Throat = \" + \"{:.2%}\".format(sum(data_positive.sore_throat==1)/data_positive.shape[0]) + \"\\n\" +\n",
    "      \"Shortness Of Breath = \" + \"{:.2%}\".format(sum(data_positive.shortness_of_breath==1)/data_positive.shape[0]) + \"\\n\" +\n",
    "      \"Head Ache = \" + \"{:.2%}\".format(sum(data_positive.head_ache==1)/data_positive.shape[0]) + \"\\n\" + \n",
    "      \"\\n\" +\n",
    "      \"No symptoms at all = \" + \"{:.2%}\".format(data_positive.loc[(data_positive['cough']==0) & \n",
    "                                                                  (data_positive['fever']==0) & \n",
    "                                                                  (data_positive['fever']==0) & \n",
    "                                                                  (data_positive['sore_throat']==0) &\n",
    "                                                                  (data_positive['shortness_of_breath']==0) & \n",
    "                                                                  (data_positive['head_ache']==0)].shape[0]/data_positive.shape[0]) + \"\\n\" +\n",
    "     \"\\n\" + \n",
    "     \"Cough and Fever = \" + \"{:.2%}\".format(data_positive.loc[(data_positive['cough']==1) & (data_positive['fever']==1)].shape[0]/data_positive.shape[0]) + \"\\n\" +\n",
    "     \"Sore Throat and Fever = \" +\"{:.2%}\".format(data_positive.loc[(data_positive['sore_throat']==1) & (data_positive['fever']==1)].shape[0]/data_positive.shape[0]))"
   ]
  }
 ],
 "metadata": {
  "kernelspec": {
   "display_name": "Python 3",
   "language": "python",
   "name": "python3"
  },
  "language_info": {
   "codemirror_mode": {
    "name": "ipython",
    "version": 3
   },
   "file_extension": ".py",
   "mimetype": "text/x-python",
   "name": "python",
   "nbconvert_exporter": "python",
   "pygments_lexer": "ipython3",
   "version": "3.6.3"
  }
 },
 "nbformat": 4,
 "nbformat_minor": 2
}
